{
 "cells": [
  {
   "cell_type": "markdown",
   "metadata": {},
   "source": [
    "# Abstract\n",
    "\n"
   ]
  },
  {
   "cell_type": "markdown",
   "metadata": {},
   "source": [
    "# Introduction\n",
    "\n",
    "Jupyter Notebook is a fantastic tool for data exploration, enabling analysts to write documents that contain software code, computational output, formatted text and even multimedia \\cite{perkel2018jupyter}. Visualization is a big component of the data exploration process, and can be frequently found in Jupyter Notebooks: for example, a recent study of public github repositories found that *matplotlib* was the second most imported package in the notebook environment \\cite{pimentel2019large}.\n",
    "\n",
    "When datasets are too large or too complex, interactive visualization becomes a useful tool in exploratory data analysis. Interactive visualizations can enable, among many others, the display of information at multiple levels of detail, the exploration of data using coordinated views, and the dynamic change of the charts to focus on the user's interests \\cite{munzner2014visualization}. While Jupyter Notebooks can contain interactive visualizations, the vast majority of charts produced in the environment are static.\n",
    "\n",
    "In this paper, we will present three simple and powerful approaches in which data scientists can create interactive visualizations in Jupyter Notebooks: *Matplotlib Callbacks*, *Visualization Toolkits* and *Custom HTML Embedding*. The three approaches offer a number of benefits and drawbacks that need to be considered by the developer in order for them to make an informed decision about their visualization project. By the end of this paper, the reader will have a good understanding of the three methods, and will be able to select an implementation approach depending on the level of interaction, customization and data flow desired."
   ]
  },
  {
   "cell_type": "code",
   "execution_count": 4,
   "metadata": {
    "tags": [
     "remove_cell"
    ]
   },
   "outputs": [],
   "source": [
    "# A common pattern in Jupyter workflows include the execution of code cells, followed by the visualization of the results and formatted text with a description of the experiments \\cite{pimentel2019large}.\n",
    "\n",
    "# These notebooks are widely used in both in science and industry: one analyzis of the GitHub public repositories in 2018 counted more than 2.5 million Jupyter notebooks \\cite{perkel2018jupyter}.\n",
    "\n",
    "# Data Visualization allows people to analyze data when they do not know what questions they need to ask in advance \\cite{munzner2014visualization}."
   ]
  },
  {
   "cell_type": "markdown",
   "metadata": {},
   "source": [
    "# Related Work"
   ]
  },
  {
   "cell_type": "markdown",
   "metadata": {},
   "source": [
    "3D Volume visualizations\n",
    "\n",
    "ipygany: https://blog.jupyter.org/ipygany-jupyter-into-the-third-dimension-29a97597fc33\n",
    "\n",
    "ipyvolume: https://github.com/maartenbreddels/ipyvolume        "
   ]
  },
  {
   "cell_type": "markdown",
   "metadata": {},
   "source": [
    "Altair \\cite{vanderplas2018altair} is declarative statistical visualization library for Python. It ports the VEGA-Lite specification. It enables the creation of a wide range of interactive statistical visualizations to be expressed using a small number of grammar primitives. Multiple views can be combined and cross-filtered. All visualizations can be used interactively in Jupyter Notebooks.\n",
    "\n",
    "PipelineProfiler \\cite{ono2020pipelineprofiler} is a python library that enables the visualization and comparison of Machine Learning (ML) pipelines produced by AutoML systems. Users can compare pipelines based on graph structure (how pipeline nodes/inputs/outputs are combined), hyperparameters, and node importance. The library is integrated with Jupyter Notebooks and Google Colab Notebooks. Users can subset, sort, and export pipelines back to python for further analysis.\n",
    "\n",
    "StatCast Dashboard \\cite{lage2016statcast} is a tool that enables baseball experts and fans to query, filter and analyze tracking data gathered by Major League Baseball's StatCast, a spatiotemporal player tracking system. The system enables users to query MLB's games based on play metadata (teams, players, date, etc), play statistics (ball velocity, runner top speed, route efficiency, etc), as well as trajectory (brushing on the baseball field diagram). Queried plays can be exported to csv and ingested back in the notebook. It is integrated with Jupyter notebooks to facilitate the data science workflow.\n",
    "\n",
    "VisJS2jupyter \\cite{rosenthal2017interactive} is a library designed to enable the exploration of  biological networks in Jupyter notebooks.  The library consumes networks in the NetworkX \\cite{hagberg2008exploring} format and plots the interactive visualizations using Javascript.\n",
    "\n",
    "InterpretML \\cite{nori2019interpretml} is a python package that contains a collection of algorithms for explaining machine learning models, including LIME, SHAP and Partial Dependency Plots. Every explanation can be displayed to the user using visualizations, that wre integrated with Jupyter Notebook.s well as visualizations and dashboards that enable the exploration  of these explanations.\n",
    "\n",
    "LIME \\cite{ribeiro2016should} is a python library that explains the predictions of machine learning  classifiers by using a local interpretable surrogate model on top of the original model's predictions. The prediction explanations can be plotted on Jupyter notebooks. \n",
    "\n",
    "The SHAP library \\cite{lundberg2018explainable} also provides methods to explain machine learning models and display interactive visualizations on Jupyter Notebooks.  "
   ]
  },
  {
   "cell_type": "markdown",
   "metadata": {},
   "source": [
    "# Interactive Visualizations 3 Ways"
   ]
  },
  {
   "cell_type": "markdown",
   "metadata": {},
   "source": [
    "## Matplotlib Interactive Callbacks"
   ]
  },
  {
   "cell_type": "markdown",
   "metadata": {},
   "source": [
    "## Javascript-based packages"
   ]
  },
  {
   "cell_type": "markdown",
   "metadata": {},
   "source": [
    "## Custom Javascript Visualizations"
   ]
  },
  {
   "cell_type": "markdown",
   "metadata": {},
   "source": [
    "Displaying custom Javascript visualizations in Jupyter Notebook can be done in a few lines of code. \n",
    "The package *Ipython.display*[^1] contains the function *display* and the class *HTML*, which together can embed any HTML code in notebook cells. The HTML may contain both CSS and Javascript, which affords flexible, interactive and customizable visualizations to be created.\n",
    "\n",
    "[^1]: https://ipython.readthedocs.io/en/stable/api/generated/IPython.display.html\n",
    "\n",
    "In order to embed the the visualization in a cell, one needs to create a string variable containing all the HTML, Javascript and CSS code needed for the visualization. Since writing everything in a Jupyter cell can be too cumbersome, one can write the visualization in a code editor, then load the document in python and display it. Javascript Bundlers, such as Webpack \\cite{webpack_webpack_2020}, can convert multiple HTML, Javascript and CSS files into a single file, facilitating this process.\n",
    "\n",
    "In the following, we show a minimal example of HTML embedding in a jupyter cell:"
   ]
  },
  {
   "cell_type": "code",
   "execution_count": null,
   "metadata": {
    "tags": [
     "remove_output"
    ]
   },
   "outputs": [],
   "source": [
    "from IPython.display import display, HTML\n",
    "html_string = \"\"\"<button onclick=\"alert('Hello World')\">Hello World</button>\"\"\"\n",
    "display(HTML(html_string))"
   ]
  },
  {
   "cell_type": "markdown",
   "metadata": {},
   "source": [
    "Two popular frameworks for writing Javascript visualizations are D3 \\cite{bostock2011d3} and React \\cite{fedosejev2015react}. Both frameworks manipulate the HTML page based on the data, which facilitates the design of new visualizations. Integrating these third party frameworks in custom Jupyter Notebook visualizations can be accomplished in two ways: 1) Using Webpack \\cite{webpack2020} to bundle all the dependencies and visualization source code together in  a new library file. And 2) Importing the framework directly on a notebook cell using the *Require* command. \n",
    "\n",
    "The first approach has a higher setup cost, as it requires setting up a new NPM project and configuring Webpack to bundle the code and dependencies into a single javascript file. However, it allows the visualization to be divided in multiple files, which often results in a more organized code. For detailed instructions on how to compile a javascript library using Webpack, please see the documentation page[^2].\n",
    "\n",
    "[^2]: https://webpack.js.org/guides/author-libraries/\n",
    "\n",
    "Once the code is bundled into a single file, it can be used in Jupyter notebooks by reading the  file as a text document, and displaying it using the *display(HTML(source))* command.\n",
    "\n",
    "Data can be passed from Python to javascript by using JSON strings. First, the data is converted to json. Then, the string can be sent to a variable in javascript and used normally.\n",
    "\n",
    "The following code snippet shows how to embed a custom library that enables the display and edit of baseball play trajectories. The trajectory data comes from \\cite{ono2019historytracker}"
   ]
  },
  {
   "cell_type": "code",
   "execution_count": null,
   "metadata": {
    "scrolled": false
   },
   "outputs": [],
   "source": [
    "import pandas as pd\n",
    "\n",
    "with open(\"./BaseballVisualizer/build/baseballvisualizer.js\", \"r\") as f:\n",
    "    baseball_visualizer_bundle = f.read()\n",
    "\n",
    "play = pd.read_csv(\"./play_annotated.csv\", sep=\";\")\n",
    "    \n",
    "html = \"\"\"\n",
    "<html>\n",
    "<body>\n",
    "<div id=\"container\"/>\n",
    "\n",
    "<script type=\"application/javascript\">\n",
    "{baseball_visualizer_bundle}\n",
    "</script>\n",
    "\n",
    "<script> \n",
    "     baseballvisualizer.renderBaseballAnnotator(\"#container\", {data});\n",
    "</script>\n",
    "\n",
    "</body>\n",
    "</html>\n",
    "\"\"\".format(baseball_visualizer_bundle=baseball_visualizer_bundle, data={'tracking': play.to_json(orient=\"records\")})\n",
    "\n",
    "display(HTML(html))"
   ]
  },
  {
   "cell_type": "code",
   "execution_count": null,
   "metadata": {},
   "outputs": [],
   "source": [
    "received_trajectory = []\n",
    "def receive_trajectory(comm, open_msg):\n",
    "    # comm is the kernel Comm instance\n",
    "    # Register handler for later messages\n",
    "    @comm.on_msg\n",
    "    def _recv(msg):\n",
    "        global received_trajectory \n",
    "        # Use msg['content']['data'] for the data in the message\n",
    "        received_trajectory = msg['content']['data']['trajectory']\n",
    "        print(received_trajectory)\n",
    "        comm.send({'received': True})\n",
    "\n",
    "get_ipython().kernel.comm_manager.register_target('submit_trajectory', receive_trajectory)"
   ]
  },
  {
   "cell_type": "code",
   "execution_count": null,
   "metadata": {},
   "outputs": [],
   "source": [
    "pd.DataFrame(received_trajectory)"
   ]
  },
  {
   "cell_type": "code",
   "execution_count": null,
   "metadata": {},
   "outputs": [],
   "source": []
  }
 ],
 "metadata": {
  "celltoolbar": "Tags",
  "kernelspec": {
   "display_name": "Python 3",
   "language": "python",
   "name": "python3"
  },
  "language_info": {
   "codemirror_mode": {
    "name": "ipython",
    "version": 3
   },
   "file_extension": ".py",
   "mimetype": "text/x-python",
   "name": "python",
   "nbconvert_exporter": "python",
   "pygments_lexer": "ipython3",
   "version": "3.6.9"
  }
 },
 "nbformat": 4,
 "nbformat_minor": 4
}
